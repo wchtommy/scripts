{
 "cells": [
  {
   "cell_type": "code",
   "execution_count": 2,
   "metadata": {},
   "outputs": [],
   "source": [
    "import json\n",
    "import mysql.connector\n",
    "\n",
    "source='patient_with_new_name__cen__2023-04-04T03_24_27.473244Z.json'\n",
    "output='cen-patient-map.csv'\n"
   ]
  },
  {
   "cell_type": "code",
   "execution_count": 80,
   "metadata": {},
   "outputs": [],
   "source": [
    "\n",
    "# fetch rows from mysql\n",
    "\n",
    "# mycursor.execute(\"\"\"\n",
    "#     SELECT \n",
    "#         AES_DECRYPT(pat_name_tc, 'tcma'), \n",
    "#         AES_DECRYPT(pat_hkid, 'tcma'), pat_tel_1 \n",
    "#     FROM \n",
    "#         patient\n",
    "# \"\"\")\n",
    "# myresult = mycursor.fetchall()\n",
    "\n",
    "# res = []\n",
    "# for x in myresult:\n",
    "#     # convert bytearray to encoding utf8\n",
    "#     name = x[0].decode('utf8')\n",
    "#     hkid = x[1].decode('utf8')\n",
    "#     mobile = x[2]\n",
    "#     res.append({'name': name, 'hkid': hkid, 'mobile': mobile})\n",
    "# print(len(res))"
   ]
  },
  {
   "cell_type": "code",
   "execution_count": 4,
   "metadata": {},
   "outputs": [],
   "source": [
    "with open(source, 'r', encoding='utf8') as f:\n",
    "    with open(output, 'w', encoding='utf8') as outf:\n",
    "        data = json.load(f)\n",
    "        for d in data:\n",
    "            mobile = d['mobile']      \n",
    "            mydb = mysql.connector.connect(\n",
    "                host=\"localhost\",\n",
    "                user=\"root\",\n",
    "                password=\"24522913\",\n",
    "                database=\"tcma_cen\"\n",
    "            )\n",
    "            mycursor = mydb.cursor()\n",
    "            mycursor.execute(\"\"\"\n",
    "                SELECT \n",
    "                    AES_DECRYPT(pat_name_tc, 'tcma'), \n",
    "                    AES_DECRYPT(pat_hkid, 'tcma'), \n",
    "                    pat_tel_1 \n",
    "                FROM \n",
    "                    patient\n",
    "                WHERE\n",
    "                    pat_tel_1 = \"%s\"\n",
    "            \"\"\" % (mobile))\n",
    "            res = mycursor.fetchall()\n",
    "            for x in res: \n",
    "                if x is None or (x[0] is None) or (x[1] is None) or (x[2] is None):\n",
    "                    continue\n",
    "                name = x[0].decode('utf8')\n",
    "                hkid = x[1].decode('utf8')\n",
    "                mobile = x[2]\n",
    "                if hkid == '' or mobile == '':\n",
    "                    continue\n",
    "                outf.write(\"%s,%s,%s\\n\" % (name, hkid, mobile))\n",
    "            # for r in res:\n",
    "                \n",
    "            #     if mobile == r['mobile']:\n",
    "            #         print(mobile)\n",
    "            #         # write file \n",
    "            #         break\n",
    "                    \n",
    "                    "
   ]
  }
 ],
 "metadata": {
  "kernelspec": {
   "display_name": "Python 3",
   "language": "python",
   "name": "python3"
  },
  "language_info": {
   "codemirror_mode": {
    "name": "ipython",
    "version": 3
   },
   "file_extension": ".py",
   "mimetype": "text/x-python",
   "name": "python",
   "nbconvert_exporter": "python",
   "pygments_lexer": "ipython3",
   "version": "3.9.13 (tags/v3.9.13:6de2ca5, May 17 2022, 16:36:42) [MSC v.1929 64 bit (AMD64)]"
  },
  "orig_nbformat": 4,
  "vscode": {
   "interpreter": {
    "hash": "8c5b04c1a0bb08e7c699a9c1cb8154540096717a495a844ef16b8ded65696971"
   }
  }
 },
 "nbformat": 4,
 "nbformat_minor": 2
}
