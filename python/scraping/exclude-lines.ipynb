{
 "cells": [
  {
   "cell_type": "code",
   "execution_count": 20,
   "metadata": {},
   "outputs": [],
   "source": [
    "source='output.txt'\n",
    "target='st-appt.txt'\n",
    "\n",
    "output='out.txt'"
   ]
  },
  {
   "cell_type": "code",
   "execution_count": 21,
   "metadata": {},
   "outputs": [],
   "source": [
    "with open(output, 'w', encoding='utf-8') as output_file:\n",
    "    with open(source, 'r', encoding='utf-8') as source_file:\n",
    "        for line in source_file:\n",
    "            no_match = True\n",
    "            with open(target, 'r', encoding='utf-8') as target_file:\n",
    "                for target_line in target_file:\n",
    "                    if line == target_line:\n",
    "                        no_match = False\n",
    "                        break\n",
    "            if no_match == True:\n",
    "                output_file.write(line)"
   ]
  }
 ],
 "metadata": {
  "kernelspec": {
   "display_name": "Python 3",
   "language": "python",
   "name": "python3"
  },
  "language_info": {
   "codemirror_mode": {
    "name": "ipython",
    "version": 3
   },
   "file_extension": ".py",
   "mimetype": "text/x-python",
   "name": "python",
   "nbconvert_exporter": "python",
   "pygments_lexer": "ipython3",
   "version": "3.9.13 (tags/v3.9.13:6de2ca5, May 17 2022, 16:36:42) [MSC v.1929 64 bit (AMD64)]"
  },
  "orig_nbformat": 4,
  "vscode": {
   "interpreter": {
    "hash": "8c5b04c1a0bb08e7c699a9c1cb8154540096717a495a844ef16b8ded65696971"
   }
  }
 },
 "nbformat": 4,
 "nbformat_minor": 2
}
