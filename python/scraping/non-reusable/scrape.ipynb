{
 "cells": [
  {
   "cell_type": "markdown",
   "metadata": {},
   "source": [
    "# 1. Prepare query data"
   ]
  },
  {
   "cell_type": "code",
   "execution_count": 1,
   "metadata": {},
   "outputs": [],
   "source": [
    "outputPath = './output.txt'\n",
    "query = {\n",
    "    \"dataModel\": {\n",
    "        \"ProviderName\": \"\",\n",
    "        \"PracticeName\": \"\",\n",
    "        \"PracticeAddress\": \"\",\n",
    "        \"Profession\": \"MP\",\n",
    "        \"Scheme\": \"EHCVS,VPV13\",\n",
    "        \"pageSize\": \"10\",\n",
    "        \"pageActualSize\": \"10\",\n",
    "        \"sortField\": \"SPName\",\n",
    "        \"sortColName\": \"SPName\",\n",
    "        \"sortType\": \"asc\",\n",
    "        \"requestType\": \"criteria\",\n",
    "        \"queryLanguage\": \"zh-tw\",\n",
    "        \"hasResult\": \"true\",\n",
    "        \"IsNonClinic\": \"AnyClinic\",\n",
    "        \"IsFreeSub\": \"\"\n",
    "        }\n",
    "    }\n",
    "\n",
    "districts = [\"KC\",\"KT\",\"SSP\",\"WTS\",\"YTM\",\"CW\",\"EAST\",\"SOUTH\",\"WC\",\"ISL\",\"KTS\",\"NORTH\",\"SK\",\"ST\",\"TP\",\"TW\",\"TM\",\"YL\"]"
   ]
  },
  {
   "cell_type": "markdown",
   "metadata": {},
   "source": [
    "# 2. HTML parser"
   ]
  },
  {
   "cell_type": "code",
   "execution_count": 2,
   "metadata": {},
   "outputs": [],
   "source": [
    "from html.parser import HTMLParser\n",
    "\n",
    "global divCounter, ok, hasValue, dataArr\n",
    "dataArr = []\n",
    "divCounter = 0\n",
    "ok = False\n",
    "hasValue = True\n",
    "\n",
    "class MyHTMLParser(HTMLParser):\n",
    "    # def __init__(self):\n",
    "    #     self.divCounter = 0\n",
    "\n",
    "    def handle_starttag(self, tag, attrs):\n",
    "        global divCounter, ok\n",
    "        divCounter += 1\n",
    "        if divCounter == 3 and tag == 'div':\n",
    "            ok = True\n",
    "\n",
    "    def handle_endtag(self, tag):\n",
    "        global divCounter, ok, hasValue\n",
    "        divCounter -= 1\n",
    "        ok = False\n",
    "\n",
    "    def handle_data(self, data):\n",
    "        global divCounter, ok, hasValue, dataArr\n",
    "        if divCounter == 3:\n",
    "            with open(outputPath, 'a+') as f:\n",
    "                line = data.strip()\n",
    "                if len(line) > 0 and line[0] == '{':\n",
    "                    dataArr.append(line)\n",
    "                    f.write(line)\n",
    "                    f.write('\\n')\n",
    "                    hasValue = True\n"
   ]
  },
  {
   "cell_type": "markdown",
   "metadata": {},
   "source": [
    "# 3. Start parsing gov hcv site"
   ]
  },
  {
   "cell_type": "code",
   "execution_count": 3,
   "metadata": {},
   "outputs": [],
   "source": [
    "import requests\n",
    "import urllib\n",
    "\n",
    "cookies = { \"ASP.NET_SessionId\": \"paju1jhifihxd0ewvzmpg2fk\" }\n",
    "headers = {\n",
    "    \"Accept\": \"text/html, */*; q=0.01\",\n",
    "}\n",
    "\n",
    "for d in districts:\n",
    "    pageIndex = 1\n",
    "    dataArr = []\n",
    "    while True:\n",
    "        beforeLen = len(dataArr)\n",
    "\n",
    "        query[\"dataModel\"][\"District\"] = d\n",
    "        query[\"dataModel\"][\"pageIndex\"] = pageIndex\n",
    "\n",
    "        x = urllib.parse.urlencode((query)).replace('%27', '%22').replace('+', '')\n",
    "        r = requests.get('https://apps.hcv.gov.hk/Public/tc/SPS/GetResult?%s'%(x), params=query, cookies=cookies, headers=headers)\n",
    "\n",
    "        parser = MyHTMLParser()\n",
    "        parser.feed(r.text)\n",
    "        pageIndex += 1\n",
    "        afterLen = len(dataArr)\n",
    "        if beforeLen == afterLen:\n",
    "            break"
   ]
  },
  {
   "cell_type": "markdown",
   "metadata": {},
   "source": [
    "# 4. Convet output data to csv format"
   ]
  },
  {
   "cell_type": "code",
   "execution_count": 5,
   "metadata": {},
   "outputs": [],
   "source": [
    "import json\n",
    "import csv\n",
    "\n",
    "with open(outputPath, 'r') as f:\n",
    "    arr = f.readlines()\n",
    "\n",
    "    with open('pcv13.csv', 'w', newline='') as csvfile:\n",
    "        for a in arr:\n",
    "            d = json.loads(a)\n",
    "            spamwriter = csv.writer(csvfile, quoting=csv.QUOTE_MINIMAL)\n",
    "            spamwriter.writerow([d['SPName'], d['PracticeName'], d['PracticeAddress'], d['PracticePhoneNo'], d['DistrictName']])\n",
    "            "
   ]
  },
  {
   "cell_type": "markdown",
   "metadata": {},
   "source": [
    "# 5. Please delete output.txt once exported"
   ]
  }
 ],
 "metadata": {
  "kernelspec": {
   "display_name": "Python 3",
   "language": "python",
   "name": "python3"
  },
  "language_info": {
   "codemirror_mode": {
    "name": "ipython",
    "version": 3
   },
   "file_extension": ".py",
   "mimetype": "text/x-python",
   "name": "python",
   "nbconvert_exporter": "python",
   "pygments_lexer": "ipython3",
   "version": "3.9.13 (tags/v3.9.13:6de2ca5, May 17 2022, 16:36:42) [MSC v.1929 64 bit (AMD64)]"
  },
  "orig_nbformat": 4,
  "vscode": {
   "interpreter": {
    "hash": "8c5b04c1a0bb08e7c699a9c1cb8154540096717a495a844ef16b8ded65696971"
   }
  }
 },
 "nbformat": 4,
 "nbformat_minor": 2
}
