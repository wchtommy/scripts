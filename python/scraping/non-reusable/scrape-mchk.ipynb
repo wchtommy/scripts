{
 "cells": [
  {
   "cell_type": "markdown",
   "metadata": {},
   "source": [
    "# 1. Prepare query data"
   ]
  },
  {
   "cell_type": "code",
   "execution_count": 91,
   "metadata": {},
   "outputs": [],
   "source": [
    "outputPath = './output.txt'\n",
    "\n",
    "categories = [\n",
    "    \"S01\",\n",
    "    \"S02\",\n",
    "    \"S03\",\n",
    "    \"S04\",\n",
    "    \"S05\",\n",
    "    \"S06\",\n",
    "    \"S07\",\n",
    "    \"S08\",\n",
    "    \"S09\",\n",
    "    \"S10\",\n",
    "    \"S11\",\n",
    "    \"S12\",\n",
    "    \"S13\",\n",
    "    \"S14\",\n",
    "    \"S15\",\n",
    "    \"S16\",\n",
    "    \"S17\",\n",
    "    \"S18\",\n",
    "    \"S19\",\n",
    "    \"S20\",\n",
    "    \"S21\",\n",
    "    \"S22\",\n",
    "    \"S23\",\n",
    "    \"S24\",\n",
    "    \"S25\",\n",
    "    \"S26\",\n",
    "    \"S27\",\n",
    "    \"S28\",\n",
    "    \"S29\",\n",
    "    \"S30\",\n",
    "    \"S31\",\n",
    "    \"S32\",\n",
    "    \"S33\",\n",
    "    \"S34\",\n",
    "    \"S35\",\n",
    "    \"S36\",\n",
    "    \"S37\",\n",
    "    \"S38\",\n",
    "    \"S39\",\n",
    "    \"S40\",\n",
    "    \"S41\",\n",
    "    \"S42\",\n",
    "    \"S43\",\n",
    "    \"S44\",\n",
    "    \"S45\",\n",
    "    \"S47\",\n",
    "    \"S48\",\n",
    "    \"S49\",\n",
    "    \"S50\",\n",
    "    \"S51\",\n",
    "    \"S53\",\n",
    "    \"S54\",\n",
    "    \"S55\",\n",
    "    \"S56\",\n",
    "    \"S57\",\n",
    "    \"S58\",\n",
    "    \"S59\",\n",
    "    \"S60\",\n",
    "    \"S61\",\n",
    "    \"S62\",\n",
    "    \"S63\",\n",
    "    \"S64\",\n",
    "    \"S65\",\n",
    "    \"S66\",\n",
    "]\n",
    "\n"
   ]
  },
  {
   "attachments": {},
   "cell_type": "markdown",
   "metadata": {},
   "source": [
    "# 2. Start parsing mchk site"
   ]
  },
  {
   "cell_type": "code",
   "execution_count": 90,
   "metadata": {},
   "outputs": [],
   "source": [
    "import requests\n",
    "import urllib\n",
    "from lxml import etree\n",
    "import csv\n",
    "\n",
    "baseUrl = \"https://www.mchk.org.hk/english/list_register/list.php?page=%s&type=S&fromlist=Y&advancedsearch=Y&regno=%s\"\n",
    "\n",
    "for regno in categories:\n",
    "    pageIndex = 1\n",
    "    end = False\n",
    "    with open(outputPath, 'a+', encoding='utf8') as csvfile:\n",
    "        spamwriter = csv.writer(csvfile, quoting=csv.QUOTE_MINIMAL)\n",
    "        spamwriter.writerow([regno])\n",
    "        while True:\n",
    "            if end == True:\n",
    "                break\n",
    "            r = requests.get(baseUrl%(pageIndex, regno))\n",
    "            tree = etree.HTML(r.text)\n",
    "            doc = tree.xpath('//*[@id=\"Table_5\"]/tr/td/table/tr/td/table/tr')\n",
    "            for d in doc:\n",
    "                a = []\n",
    "                for t in d.itertext():\n",
    "                    text = t.strip()\n",
    "                    if text != '':\n",
    "                        a.append(t.strip())\n",
    "                        if text == '沒有相關搜尋結果。':\n",
    "                            pageIndex = 1\n",
    "                            end = True\n",
    "                            break\n",
    "                if a[0] != '註冊編號':\n",
    "                    spamwriter.writerow(a)\n",
    "\n",
    "            pageIndex += 1\n"
   ]
  }
 ],
 "metadata": {
  "kernelspec": {
   "display_name": "Python 3",
   "language": "python",
   "name": "python3"
  },
  "language_info": {
   "codemirror_mode": {
    "name": "ipython",
    "version": 3
   },
   "file_extension": ".py",
   "mimetype": "text/x-python",
   "name": "python",
   "nbconvert_exporter": "python",
   "pygments_lexer": "ipython3",
   "version": "3.9.13 (tags/v3.9.13:6de2ca5, May 17 2022, 16:36:42) [MSC v.1929 64 bit (AMD64)]"
  },
  "orig_nbformat": 4,
  "vscode": {
   "interpreter": {
    "hash": "8c5b04c1a0bb08e7c699a9c1cb8154540096717a495a844ef16b8ded65696971"
   }
  }
 },
 "nbformat": 4,
 "nbformat_minor": 2
}
