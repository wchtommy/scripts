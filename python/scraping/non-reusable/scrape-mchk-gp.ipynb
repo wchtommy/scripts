{
 "cells": [
  {
   "cell_type": "markdown",
   "metadata": {},
   "source": [
    "# 1. Prepare query data"
   ]
  },
  {
   "cell_type": "code",
   "execution_count": 1,
   "metadata": {},
   "outputs": [],
   "source": [
    "outputPath = './output.txt'\n",
    "\n",
    "categories = [\n",
    "    \"S01\",\n",
    "    \"S02\",\n",
    "    \"S03\",\n",
    "    \"S04\",\n",
    "    \"S05\",\n",
    "    \"S06\",\n",
    "    \"S07\",\n",
    "    \"S08\",\n",
    "    \"S09\",\n",
    "    \"S10\",\n",
    "    \"S11\",\n",
    "    \"S12\",\n",
    "    \"S13\",\n",
    "    \"S14\",\n",
    "    \"S15\",\n",
    "    \"S16\",\n",
    "    \"S17\",\n",
    "    \"S18\",\n",
    "    \"S19\",\n",
    "    \"S20\",\n",
    "    \"S21\",\n",
    "    \"S22\",\n",
    "    \"S23\",\n",
    "    \"S24\",\n",
    "    \"S25\",\n",
    "    \"S26\",\n",
    "    \"S27\",\n",
    "    \"S28\",\n",
    "    \"S29\",\n",
    "    \"S30\",\n",
    "    \"S31\",\n",
    "    \"S32\",\n",
    "    \"S33\",\n",
    "    \"S34\",\n",
    "    \"S35\",\n",
    "    \"S36\",\n",
    "    \"S37\",\n",
    "    \"S38\",\n",
    "    \"S39\",\n",
    "    \"S40\",\n",
    "    \"S41\",\n",
    "    \"S42\",\n",
    "    \"S43\",\n",
    "    \"S44\",\n",
    "    \"S45\",\n",
    "    \"S47\",\n",
    "    \"S48\",\n",
    "    \"S49\",\n",
    "    \"S50\",\n",
    "    \"S51\",\n",
    "    \"S53\",\n",
    "    \"S54\",\n",
    "    \"S55\",\n",
    "    \"S56\",\n",
    "    \"S57\",\n",
    "    \"S58\",\n",
    "    \"S59\",\n",
    "    \"S60\",\n",
    "    \"S61\",\n",
    "    \"S62\",\n",
    "    \"S63\",\n",
    "    \"S64\",\n",
    "    \"S65\",\n",
    "    \"S66\",\n",
    "]\n",
    "\n"
   ]
  },
  {
   "attachments": {},
   "cell_type": "markdown",
   "metadata": {},
   "source": [
    "# 2. Start parsing mchk site"
   ]
  },
  {
   "cell_type": "code",
   "execution_count": 1,
   "metadata": {},
   "outputs": [
    {
     "ename": "NameError",
     "evalue": "name 'outputPath' is not defined",
     "output_type": "error",
     "traceback": [
      "\u001b[1;31m---------------------------------------------------------------------------\u001b[0m",
      "\u001b[1;31mNameError\u001b[0m                                 Traceback (most recent call last)",
      "\u001b[1;32mc:\\Users\\wchto\\Desktop\\script-library\\python\\pcv13-scrape\\scrape-mchk-gp.ipynb Cell 4\u001b[0m in \u001b[0;36m<cell line: 10>\u001b[1;34m()\u001b[0m\n\u001b[0;32m      <a href='vscode-notebook-cell:/c%3A/Users/wchto/Desktop/script-library/python/pcv13-scrape/scrape-mchk-gp.ipynb#W3sZmlsZQ%3D%3D?line=7'>8</a>\u001b[0m pageIndex \u001b[39m=\u001b[39m \u001b[39m1\u001b[39m\n\u001b[0;32m      <a href='vscode-notebook-cell:/c%3A/Users/wchto/Desktop/script-library/python/pcv13-scrape/scrape-mchk-gp.ipynb#W3sZmlsZQ%3D%3D?line=8'>9</a>\u001b[0m end \u001b[39m=\u001b[39m \u001b[39mFalse\u001b[39;00m\n\u001b[1;32m---> <a href='vscode-notebook-cell:/c%3A/Users/wchto/Desktop/script-library/python/pcv13-scrape/scrape-mchk-gp.ipynb#W3sZmlsZQ%3D%3D?line=9'>10</a>\u001b[0m \u001b[39mwith\u001b[39;00m \u001b[39mopen\u001b[39m(outputPath, \u001b[39m'\u001b[39m\u001b[39ma+\u001b[39m\u001b[39m'\u001b[39m, encoding\u001b[39m=\u001b[39m\u001b[39m'\u001b[39m\u001b[39mutf8\u001b[39m\u001b[39m'\u001b[39m) \u001b[39mas\u001b[39;00m csvfile:\n\u001b[0;32m     <a href='vscode-notebook-cell:/c%3A/Users/wchto/Desktop/script-library/python/pcv13-scrape/scrape-mchk-gp.ipynb#W3sZmlsZQ%3D%3D?line=10'>11</a>\u001b[0m     spamwriter \u001b[39m=\u001b[39m csv\u001b[39m.\u001b[39mwriter(csvfile, quoting\u001b[39m=\u001b[39mcsv\u001b[39m.\u001b[39mQUOTE_MINIMAL)\n\u001b[0;32m     <a href='vscode-notebook-cell:/c%3A/Users/wchto/Desktop/script-library/python/pcv13-scrape/scrape-mchk-gp.ipynb#W3sZmlsZQ%3D%3D?line=11'>12</a>\u001b[0m     \u001b[39mwhile\u001b[39;00m \u001b[39mTrue\u001b[39;00m:\n",
      "\u001b[1;31mNameError\u001b[0m: name 'outputPath' is not defined"
     ]
    }
   ],
   "source": [
    "import requests\n",
    "import urllib\n",
    "from lxml import etree\n",
    "import csv\n",
    "\n",
    "baseUrl = \"https://www.mchk.org.hk/english/list_register/list.php?page=%s&ipp=20&type=L\"\n",
    "\n",
    "pageIndex = 1\n",
    "end = False\n",
    "with open(outputPath, 'a+', encoding='utf8') as csvfile:\n",
    "    spamwriter = csv.writer(csvfile, quoting=csv.QUOTE_MINIMAL)\n",
    "    while True:\n",
    "        if end == True:\n",
    "            break\n",
    "        r = requests.get(baseUrl%(pageIndex))\n",
    "        tree = etree.HTML(r.text)\n",
    "        doc = tree.xpath('//*[@id=\"Table_5\"]/tr/td/table/tr/td/table/tr')\n",
    "        for d in doc:\n",
    "            print(d)\n",
    "            a = []\n",
    "            for t in d.itertext():\n",
    "                text = t.strip()\n",
    "                if text != '':\n",
    "                    a.append(t.strip())\n",
    "                    if text == '沒有相關搜尋結果。':\n",
    "                        pageIndex = 1\n",
    "                        end = True\n",
    "                        break\n",
    "            if a[0] != '註冊編號':\n",
    "                spamwriter.writerow(a)\n",
    "\n",
    "        pageIndex += 1\n"
   ]
  }
 ],
 "metadata": {
  "kernelspec": {
   "display_name": "Python 3",
   "language": "python",
   "name": "python3"
  },
  "language_info": {
   "codemirror_mode": {
    "name": "ipython",
    "version": 3
   },
   "file_extension": ".py",
   "mimetype": "text/x-python",
   "name": "python",
   "nbconvert_exporter": "python",
   "pygments_lexer": "ipython3",
   "version": "3.9.13 (tags/v3.9.13:6de2ca5, May 17 2022, 16:36:42) [MSC v.1929 64 bit (AMD64)]"
  },
  "orig_nbformat": 4,
  "vscode": {
   "interpreter": {
    "hash": "8c5b04c1a0bb08e7c699a9c1cb8154540096717a495a844ef16b8ded65696971"
   }
  }
 },
 "nbformat": 4,
 "nbformat_minor": 2
}
